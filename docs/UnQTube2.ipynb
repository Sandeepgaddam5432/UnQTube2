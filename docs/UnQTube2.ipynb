{
  "cells": [
    {
      "cell_type": "markdown",
      "metadata": {},
      "source": [
        "# UnQTube2 Setup Guide\n",
        "\n",
        "This notebook will guide you through the process of setting up [UnQTube2](https://github.com/Sandeepgaddam5432/UnQTube2)."
      ]
    },
    {
      "cell_type": "markdown",
      "metadata": {},
      "source": [
        "## 1. Clone Repository and Install Dependencies\n",
        "\n",
        "First, we'll clone the repository from GitHub and install all required packages:"
      ]
    },
    {
      "cell_type": "code",
      "execution_count": null,
      "metadata": {
        "id": "S8Eu-aQarY_B"
      },
      "outputs": [],
      "source": [
        "!git clone https://github.com/Sandeepgaddam5432/UnQTube2.git\n",
        "%cd UnQTube2\n",
        "!pip install -q -r requirements.txt"
      ]
    },
    {
      "cell_type": "markdown",
      "metadata": {},
      "source": [
        "## 2. Configure Cloudflare Tunnel for Remote Access\n",
        "\n",
        "We'll use Cloudflare Tunnel to create a secure tunnel to expose our local Streamlit server to the internet.\n",
        "This will give you a public URL to access your UnQTube2 application from anywhere."
      ]
    },
    {
      "cell_type": "code",
      "execution_count": null,
      "metadata": {},
      "outputs": [],
      "source": [
        "import os\n",
        "import platform\n",
        "import subprocess\n",
        "\n",
        "# Determine the system architecture and download the appropriate cloudflared binary\n",
        "system = platform.system().lower()\n",
        "machine = platform.machine().lower()\n",
        "\n",
        "cloudflared_url = \"\"\n",
        "if system == \"linux\":\n",
        "    if \"arm\" in machine or \"aarch\" in machine:\n",
        "        cloudflared_url = \"https://github.com/cloudflare/cloudflared/releases/latest/download/cloudflared-linux-arm64\"\n",
        "    else:\n",
        "        cloudflared_url = \"https://github.com/cloudflare/cloudflared/releases/latest/download/cloudflared-linux-amd64\"\n",
        "elif system == \"darwin\":\n",
        "    if \"arm\" in machine or \"aarch\" in machine:\n",
        "        cloudflared_url = \"https://github.com/cloudflare/cloudflared/releases/latest/download/cloudflared-darwin-amd64\"\n",
        "    else:\n",
        "        cloudflared_url = \"https://github.com/cloudflare/cloudflared/releases/latest/download/cloudflared-darwin-amd64\"\n",
        "else:  # Windows\n",
        "    cloudflared_url = \"https://github.com/cloudflare/cloudflared/releases/latest/download/cloudflared-windows-amd64.exe\"\n",
        "\n",
        "# Download cloudflared\n",
        "print(f\"📥 Downloading cloudflared from {cloudflared_url}...\")\n",
        "!wget -q {cloudflared_url} -O cloudflared\n",
        "!chmod +x cloudflared\n",
        "print(\"✅ Cloudflared downloaded and made executable!\")"
      ]
    },
    {
      "cell_type": "markdown",
      "metadata": {},
      "source": [
        "## 3. Launch Application and Generate Public URL\n",
        "\n",
        "Now we'll start the Streamlit server and create a Cloudflare tunnel to make it accessible online:"
      ]
    },
    {
      "cell_type": "code",
      "execution_count": null,
      "metadata": {
        "colab": {
          "base_uri": "https://localhost:8080/"
        },
        "id": "oahsIOXmwjl9"
      },
      "outputs": [],
      "source": [
        "import subprocess\n",
        "import time\n",
        "import re\n",
        "\n",
        "print(\"🚀 Starting UnQTube2...\")\n",
        "# Start Streamlit server on port 8501 in the background\n",
        "streamlit_proc = subprocess.Popen([\n",
        "    \"streamlit\", \"run\", \"./webui/Main.py\", \"--server.port=8501\"\n",
        "], stdout=subprocess.PIPE, stderr=subprocess.PIPE)\n",
        "\n",
        "# Wait for the server to initialize\n",
        "time.sleep(5)\n",
        "\n",
        "print(\"🌐 Creating Cloudflare tunnel to expose UnQTube2...\")\n",
        "# Start cloudflared in the background and redirect output to a log file\n",
        "cloudflared_log = \"cloudflared.log\"\n",
        "cloudflared_proc = subprocess.Popen(\n",
        "    [\"./cloudflared\", \"tunnel\", \"--url\", \"http://localhost:8501\"],\n",
        "    stdout=open(cloudflared_log, \"w\"),\n",
        "    stderr=subprocess.STDOUT\n",
        ")\n",
        "\n",
        "# Wait for the tunnel to be established and extract the URL\n",
        "time.sleep(5)\n",
        "public_url = None\n",
        "retries = 0\n",
        "\n",
        "while public_url is None and retries < 10:\n",
        "    with open(cloudflared_log, \"r\") as f:\n",
        "        log_content = f.read()\n",
        "        # Look for the tunnel URL in the log\n",
        "        url_match = re.search(r'https://[\\w-]+\\.trycloudflare\\.com', log_content)\n",
        "        if url_match:\n",
        "            public_url = url_match.group(0)\n",
        "        else:\n",
        "            retries += 1\n",
        "            time.sleep(1)\n",
        "\n",
        "if public_url:\n",
        "    print(\"✅ Deployment complete! Access your UnQTube2 at:\")\n",
        "    print(public_url)\n",
        "else:\n",
        "    print(\"❌ Failed to establish Cloudflare tunnel. Please check the cloudflared.log file.\")\n",
        "    print(\"You can also try running the tunnel manually with:\")\n",
        "    print(\"./cloudflared tunnel --url http://localhost:8501\")"
      ]
    }
  ],
  "metadata": {
    "colab": {
      "provenance": []
    },
    "kernelspec": {
      "display_name": "Python 3",
      "name": "python3"
    },
    "language_info": {
      "name": "python"
    }
  },
  "nbformat": 4,
  "nbformat_minor": 0
}
